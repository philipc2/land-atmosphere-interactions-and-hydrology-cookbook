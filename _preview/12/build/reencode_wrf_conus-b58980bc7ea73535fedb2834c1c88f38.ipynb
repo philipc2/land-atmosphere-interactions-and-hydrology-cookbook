{
 "cells": [
  {
   "cell_type": "code",
   "execution_count": null,
   "id": "653324a3-e972-46d1-a80e-57bcf64c8a7a",
   "metadata": {},
   "outputs": [],
   "source": [
    "import uxarray as ux\n",
    "import matplotlib.pyplot as plt\n",
    "import cartopy.crs as ccrs\n",
    "import cartopy.feature as cfeature\n",
    "import os\n",
    "import OpenVisus as ov\n",
    "import xarray as xr\n",
    "from tqdm import tqdm\n",
    "import time\n",
    "from sys import getsizeof"
   ]
  },
  {
   "cell_type": "code",
   "execution_count": null,
   "id": "1c1b063e-b8fb-49ba-b1bb-7b0883307ed6",
   "metadata": {},
   "outputs": [],
   "source": [
    "# !pip install OpenVisus openvisuspy boto3 xmltodict panel bokeh\n",
    "# !pip install tqdm"
   ]
  },
  {
   "cell_type": "code",
   "execution_count": null,
   "id": "41d3f40d-6771-457b-b67a-6ffae1627420",
   "metadata": {},
   "outputs": [],
   "source": [
    "main_dir='/glade/derecho/scratch/digital-earths-hackathon/conus404/native_grid'\n",
    "home_dir='/glade/u/home/dpanta'\n",
    "idx_dir='/glade/u/home/dpanta/idx'"
   ]
  },
  {
   "cell_type": "code",
   "execution_count": null,
   "id": "b3b2a300-7496-4945-8932-06f8058a0b40",
   "metadata": {},
   "outputs": [],
   "source": [
    "st_file='/glade/derecho/scratch/digital-earths-hackathon/conus404/native_grid/2020-10_eastward_wind.nc'\n",
    "\n",
    "\n",
    "files=[\n",
    "'2020-12_eastward_wind.nc',\n",
    "'2020-12_northward_wind.nc',\n",
    "'2020-12_precipitation_flux.nc',\n",
    "'2020-12_specific_humidity.nc',\n",
    "'2020-12_surface_air_pressure.nc',\n",
    "'2020-12_surface_temperature.nc',\n",
    "'2020-12_toa_outgoing_longwave_flux.nc',\n",
    "'2020-12_toa_outgoing_shortwave_flux.nc',\n",
    "]"
   ]
  },
  {
   "cell_type": "code",
   "execution_count": null,
   "id": "f5a5464a-4ab9-4844-a5f7-9449437e1d70",
   "metadata": {
    "scrolled": true
   },
   "outputs": [],
   "source": [
    "ds=xr.open_dataset(st_file)\n",
    "ds"
   ]
  },
  {
   "cell_type": "code",
   "execution_count": null,
   "id": "fd8061d0-ae23-416b-b20a-e947b61e8673",
   "metadata": {},
   "outputs": [],
   "source": [
    "import datetime\n",
    "\n",
    "idx_filename=f\"/glade/derecho/scratch/dpanta/idx/conus404_all.idx\"\n",
    "fields=['eastward_wind','northward_wind','precipitation_flux','specific_humidity','surface_air_pressure','surface_temperature','toa_outgoing_longwave_flux', 'toa_outgoing_shortwave_flux']\n",
    "arco=\"4mb\"\n",
    "fld_idx=[]\n",
    "for fld in fields:\n",
    "    print(f'Setting Field::: {fld}')\n",
    "    st_file=f'/glade/derecho/scratch/digital-earths-hackathon/conus404/native_grid/2020-10_{fld}.nc'\n",
    "\n",
    "    ds = xr.open_dataset(st_file, group=\"/\", mask_and_scale=False) \n",
    "    data=ds[f\"{fld}\"][0,:,:].values\n",
    "    if int(len(data.shape))>1:\n",
    "        \n",
    "        print(f\"{fld}::::{data.shape}\")\n",
    "        try:\n",
    "            vmin,vmax=np.min(data),np.max(data)\n",
    "        except:\n",
    "            vmin,vmax=0,0\n",
    "        fld=ov.Field.fromString(f\"\"\"{fld} {str(data.dtype)} format(row_major) min({vmin}) max({vmax})\"\"\")\n",
    "        fld_idx.append(fld)"
   ]
  },
  {
   "cell_type": "code",
   "execution_count": null,
   "id": "e86db120-d1bb-4ad6-b987-b7db41d8bb45",
   "metadata": {},
   "outputs": [],
   "source": [
    "T=744\n",
    "W,H=data.shape\n"
   ]
  },
  {
   "cell_type": "code",
   "execution_count": null,
   "id": "f9f092b3-d793-40c4-872b-dbef1daea331",
   "metadata": {},
   "outputs": [],
   "source": [
    "print('Creating IDX Metadata file now...')\n",
    "db=ov.CreateIdx(\n",
    "    url=idx_filename, \n",
    "\tdims=[H,W], \n",
    "\tfields=fld_idx, \n",
    "\tcompression=\"raw\", \n",
    "\tarco=arco,\n",
    "\ttime=[0,T,\"time_%d/\"])\n",
    "print('Created...')\n",
    "\n",
    "# db=ov.LoadDataset(idx_filename)"
   ]
  },
  {
   "cell_type": "code",
   "execution_count": null,
   "id": "89c82d00-1c6a-4271-9c67-1c4da16cc900",
   "metadata": {},
   "outputs": [],
   "source": [
    "print('Writing to idx...')\n",
    "for i in range(len(fields)):\n",
    "    print(f'Writing field {fields[i]}...')\n",
    "    st_file=f'/glade/derecho/scratch/digital-earths-hackathon/conus404/native_grid/2020-10_{fields[i]}.nc'\n",
    "    ds = xr.open_dataset(st_file, group=\"/\", mask_and_scale=False) \n",
    "    data=ds[f\"{fields[i]}\"][...].values\n",
    "    for t in range(data.shape[0]):\n",
    "        data_to_write=data[t,:,:]\n",
    "        try:\n",
    "            db.write(data_to_write,time=t,field=fields[i])\n",
    "        except:\n",
    "            pass\n",
    "print('Writing data completed...')\n",
    "print('Compressing data now...')\n",
    "db.compressDataset(['zip'])\n",
    "print('Data compressed!!!')"
   ]
  },
  {
   "cell_type": "code",
   "execution_count": null,
   "id": "640d1cf3-6f2f-46a3-8630-474f7225dc3b",
   "metadata": {},
   "outputs": [],
   "source": []
  }
 ],
 "metadata": {
  "kernelspec": {
   "display_name": "Python 3 (ipykernel)",
   "language": "python",
   "name": "python3"
  },
  "language_info": {
   "codemirror_mode": {
    "name": "ipython",
    "version": 3
   },
   "file_extension": ".py",
   "mimetype": "text/x-python",
   "name": "python",
   "nbconvert_exporter": "python",
   "pygments_lexer": "ipython3",
   "version": "3.10.13"
  }
 },
 "nbformat": 4,
 "nbformat_minor": 5
}
